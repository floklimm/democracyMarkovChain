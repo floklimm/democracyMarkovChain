{
 "cells": [
  {
   "cell_type": "code",
   "execution_count": 1,
   "metadata": {},
   "outputs": [],
   "source": [
    "import numpy as np\n",
    "import pandas as pd\n",
    "import matplotlib.pyplot as plt\n",
    "import seaborn as sns\n",
    "import random\n",
    "\n",
    "from matplotlib.colors import LogNorm\n",
    "from scipy.integrate import odeint\n",
    "sns.set_context(\"talk\", font_scale=1.4)\n",
    "\n",
    "\n",
    "# for using LaTeX fonts\n",
    "plt.rcParams.update({\n",
    "    \"text.usetex\": True,\n",
    "    \"font.family\": \"sans-serif\",\n",
    "    \"font.sans-serif\": [\"Helvetica\"]})\n",
    "# for Palatino and other serif fonts use:\n",
    "plt.rcParams.update({\n",
    "    \"text.usetex\": True,\n",
    "    \"font.family\": \"serif\",\n",
    "    \"font.serif\": [\"Palatino\"],\n",
    "})"
   ]
  },
  {
   "cell_type": "markdown",
   "metadata": {},
   "source": [
    "## Infer Markov Chain transition matrix from political regime time-series data"
   ]
  },
  {
   "cell_type": "code",
   "execution_count": 2,
   "metadata": {},
   "outputs": [],
   "source": [
    "# load the Polity5 data from the excel data frame\n",
    "timeSeries = pd.read_excel('./../data/polity5/p5v2018.xls')"
   ]
  },
  {
   "cell_type": "code",
   "execution_count": 3,
   "metadata": {},
   "outputs": [],
   "source": [
    "nCountries = len(timeSeries['country'].unique()) # numer of countries"
   ]
  },
  {
   "cell_type": "code",
   "execution_count": 4,
   "metadata": {},
   "outputs": [],
   "source": [
    "# do some cleaning\n",
    "timeSeries = timeSeries.dropna(subset=['year', 'country', 'polity2'])"
   ]
  },
  {
   "cell_type": "code",
   "execution_count": 5,
   "metadata": {},
   "outputs": [],
   "source": [
    "# save the countries to a csv\n",
    "#pd.DataFrame(timeSeries['country'].unique()).to_csv('countriesPolity2.csv')\n",
    "\n",
    "\n",
    "# load the continent information \n",
    "counterfactuals = pd.read_csv('./../data/polity5/countriesCounterfactualPolity2.csv')\n"
   ]
  },
  {
   "cell_type": "code",
   "execution_count": 6,
   "metadata": {},
   "outputs": [],
   "source": [
    "timeSeriesCounterfactuals = pd.merge(timeSeries, counterfactuals, on='country', how='inner')\n"
   ]
  },
  {
   "cell_type": "code",
   "execution_count": 7,
   "metadata": {},
   "outputs": [],
   "source": [
    "# functions to calculating the transition probabilities\n",
    "\n",
    "def estimateTransitionMatrix(data,approach='frequentist'):\n",
    "    \n",
    "    # construct some output matrices\n",
    "    countMatrix=np.zeros((21,21)) # empty transition matrix\n",
    "    \n",
    "    # split the timeseries into one for each country \n",
    "    uniqueCountries = data['country'].unique()\n",
    "    countryTimeseries =[]\n",
    "    \n",
    "    # count for each country the transitions\n",
    "    for country in uniqueCountries:\n",
    "        sortedPolity2Country = data[data['country'] == country].sort_values(by='year')[\"polity2\"].tolist()\n",
    "        T=len(sortedPolity2Country)# number of data points\n",
    "        for t in range(T-1): # go over all years\n",
    "            fromTransition = int(sortedPolity2Country[t] + 10)\n",
    "            toTransition = int(sortedPolity2Country[t+1] + 10)\n",
    "            \n",
    "            if  (fromTransition>=0) and ((toTransition>=0)):\n",
    "                \n",
    "                # increase the count for this year\n",
    "                countMatrix[fromTransition,toTransition] = countMatrix[fromTransition,toTransition] + 1\n",
    "    \n",
    "    if approach=='frequentist':\n",
    "        # compute the transition probabilities as count over total outgoing\n",
    "        P = countMatrix/countMatrix.sum(axis=1)[:,None]\n",
    "    if approach=='bayesian':\n",
    "        # we use a Dirichlet prior for each row\n",
    "        priorMatrix = np.zeros((21,21)) + 1/21\n",
    "        combinedMatrix = countMatrix + priorMatrix\n",
    "        # this is the posterior mean\n",
    "        P = combinedMatrix/combinedMatrix.sum(axis=1)[:,None]\n",
    "    \n",
    "    return(P)\n",
    "\n",
    "def computeSteadyStateBruteForce(transitionMatrix,nSteps,initialCondition=0):\n",
    "    # computes it the brutal way with iterating the transition\n",
    "    \n",
    "    n=transitionMatrix.shape[0] # number of Markov states\n",
    "    \n",
    "    if initialCondition==0:\n",
    "        # if it is zero use a random vector\n",
    "        x = np.random.rand(n)\n",
    "        x = x / np.sum(x)\n",
    "    else:\n",
    "        # set it to the intial condition that we provided\n",
    "        x= initialCondition\n",
    "    # fo over each step\n",
    "    for i in np.arange(nSteps):\n",
    "        #x= P_allCountries.dot(x)\n",
    "        x= x.dot(transitionMatrix)\n",
    "    \n",
    "    return(x)\n",
    "\n",
    "def computeSteadyStateEV(transitionMatrix):\n",
    "    # compute it as eigenvector\n",
    "    valsT, vecsT = np.linalg.eig(transitionMatrix.transpose())\n",
    "    \n",
    "    # find the index of the eigenvalue closest to 1\n",
    "    index_ev1 = (np.abs(valsT - 1)).argmin()\n",
    "    \n",
    "    v = vecsT[:,index_ev1]\n",
    "    return((v/np.sum(v)).real) # normalise it for the return and also ignore the imaginary part (from numerical approx.)\n",
    "\n",
    "\n",
    "def simulateMarkovChain(transitionMatrix,initialCondition,nSteps=100):\n",
    "    \n",
    "    n=transitionMatrix.shape[0] # number of states\n",
    "    \n",
    "    stateVector=[initialCondition]\n",
    "    for i in np.arange(nSteps):\n",
    "        newstate = np.random.choice(np.arange(n), p=transitionMatrix[stateVector[i],:])\n",
    "        stateVector.append(newstate)\n",
    "    return(stateVector)\n",
    "    \n",
    "\n",
    "def computeHittingTime(transitionMatrix,initialCondition,hittingTarget,rel):\n",
    "    \n",
    "    n=transitionMatrix.shape[0] # number of states\n",
    "    \n",
    "    hittingTimes = np.zeros(rel)\n",
    "    \n",
    "    # go over realisations\n",
    "    for r in np.arange(rel):\n",
    "        t=0\n",
    "        oldstate = initialCondition # we start at the initial condition\n",
    "        while ((oldstate in hittingTarget) == False):\n",
    "            t=t+1\n",
    "            newstate = np.random.choice(np.arange(n), p=transitionMatrix[oldstate,:])\n",
    "            oldstate = newstate\n",
    "        # save the number of steps needed\n",
    "        hittingTimes[r] = t\n",
    "    return(hittingTimes)  \n",
    "\n",
    "\n",
    "def createSimpleMarkovChain():\n",
    "    \n",
    "    P=np.zeros((2,2)) # empty transition matrix\n",
    "    \n",
    "    P[0,0] = 0.9\n",
    "    P[0,1] = 0.1\n",
    "    P[1,0] = 0.5\n",
    "    P[1,1] = 0.5\n",
    "    \n",
    "    return(P)"
   ]
  },
  {
   "cell_type": "markdown",
   "metadata": {},
   "source": [
    "## Counterfactual analysis (i.e., remove some transitions)\n",
    "### No post-soviet republics"
   ]
  },
  {
   "cell_type": "code",
   "execution_count": 8,
   "metadata": {},
   "outputs": [],
   "source": [
    "# remove post-soviet republics\n",
    "\n",
    "timeSeriesCounterfactualsUSSR = timeSeriesCounterfactuals.copy()\n",
    "\n",
    "postsovietRepublics = timeSeriesCounterfactualsUSSR[timeSeriesCounterfactualsUSSR['USSR'] == 1]['country'].unique()\n",
    "\n",
    "timeSeriesCounterfactualsUSSR = timeSeriesCounterfactualsUSSR[~timeSeriesCounterfactualsUSSR.country.isin(postsovietRepublics)]\n",
    "\n",
    "#for c in timeSeriesCounterfactuals[timeSeriesCounterfactuals['USSR'] == 1]['country'].unique():\n"
   ]
  },
  {
   "cell_type": "code",
   "execution_count": 9,
   "metadata": {},
   "outputs": [],
   "source": [
    "#timeSeriesNonUSSR = timeSeriesContinent[timeSeriesContinent['Africa'] == 1]\n",
    "P_allCountries_NonCollapseUSSR = estimateTransitionMatrix(timeSeriesCounterfactualsUSSR,approach='bayesian')\n",
    "steadyStateEV_NonCollapseUSSR = computeSteadyStateEV(P_allCountries_NonCollapseUSSR)\n",
    "\n",
    "\n",
    "# normal\n",
    "P_allCountries_All = estimateTransitionMatrix(timeSeries,approach='bayesian')\n",
    "steadyStateEV_All = computeSteadyStateEV(P_allCountries_All)"
   ]
  },
  {
   "cell_type": "markdown",
   "metadata": {},
   "source": [
    "### A bigger Arab Spring"
   ]
  },
  {
   "cell_type": "code",
   "execution_count": 14,
   "metadata": {},
   "outputs": [],
   "source": [
    "#timeSeriesCounterfactualsArabSpring.columns"
   ]
  },
  {
   "cell_type": "code",
   "execution_count": 46,
   "metadata": {},
   "outputs": [],
   "source": [
    "timeSeriesCounterfactualsArabSpring = timeSeriesCounterfactuals.copy()\n",
    "arabSpringCountries = timeSeriesCounterfactualsArabSpring[timeSeriesCounterfactualsArabSpring['Arab Spring'] == 1]['country'].unique()\n",
    "\n",
    "indexArabSpringCountries = np.where(timeSeriesCounterfactualsArabSpring.country.isin(arabSpringCountries))[0]\n",
    "indexPostArabSpringYear = np.where(timeSeriesCounterfactualsArabSpring.year.isin(np.arange(2011,2020)))[0]\n",
    "\n",
    "indexIntersection = list(set(indexArabSpringCountries).intersection(set(indexPostArabSpringYear)))\n",
    "\n",
    "timeSeriesCounterfactualsArabSpring.iloc[indexIntersection,11] = + 10\n"
   ]
  },
  {
   "cell_type": "code",
   "execution_count": null,
   "metadata": {},
   "outputs": [],
   "source": []
  },
  {
   "cell_type": "code",
   "execution_count": null,
   "metadata": {},
   "outputs": [],
   "source": []
  },
  {
   "cell_type": "code",
   "execution_count": 47,
   "metadata": {},
   "outputs": [],
   "source": [
    "P_allCountries_BiggerArabSpring = estimateTransitionMatrix(timeSeriesCounterfactualsArabSpring,approach='bayesian')\n",
    "steadyStateEV_ArabSpring = computeSteadyStateEV(P_allCountries_BiggerArabSpring)"
   ]
  },
  {
   "cell_type": "markdown",
   "metadata": {},
   "source": [
    "#### Plot"
   ]
  },
  {
   "cell_type": "code",
   "execution_count": 62,
   "metadata": {},
   "outputs": [
    {
     "data": {
      "image/png": "[encoded data removed]",
      "text/plain": [
       "<Figure size 720x720 with 1 Axes>"
      ]
     },
     "metadata": {
      "needs_background": "light"
     },
     "output_type": "display_data"
    }
   ],
   "source": [
    "# set the score of post-soviet republics to -4 (which was USSR in 1989)\n",
    "\n",
    "plt.figure(figsize=(10,10))\n",
    "\n",
    "plt.plot(np.arange(-10,11,1),100*steadyStateEV_All,label='Worldwide', linestyle='dashed',color='k')\n",
    "\n",
    "plt.plot(np.arange(-10,11,1),100*steadyStateEV_NonCollapseUSSR,label='without collapse USSR',color='r')\n",
    "\n",
    "plt.plot(np.arange(-10,11,1),100*steadyStateEV_ArabSpring,label='without collapse USSR',color='b')\n",
    "\n",
    "\n",
    "plt.text(8.5,100*steadyStateEV_All[-1],'All data',ha='right',va='center',color='k')\n",
    "plt.text(8.5,100*steadyStateEV_NonCollapseUSSR[-1],'no collapse of the USSR',ha='right',va='center',color='r')\n",
    "plt.text(8.5,100*steadyStateEV_ArabSpring[-1],'more  democratisation during the Arab Spring',ha='right',va='center',color='b')\n",
    "\n",
    "plt.title('End of History for counterfactual data')\n",
    "plt.xlabel(r'POLITY2 score, $s$')\n",
    "plt.ylabel(r'fraction of regimes, $P(s)$ [$\\%$]')\n",
    "plt.tight_layout()\n",
    "#plt.savefig('./fig/FigSI-EoH_continents.pdf',bbox_inches='tight')\n",
    "\n"
   ]
  },
  {
   "cell_type": "code",
   "execution_count": 49,
   "metadata": {},
   "outputs": [
    {
     "data": {
      "text/plain": [
       "array([0.02269766, 0.03202634, 0.01419185, 0.05925861, 0.04026526,\n",
       "       0.01886863, 0.02334233, 0.03783361, 0.00951228, 0.01710015,\n",
       "       0.0136887 , 0.01768907, 0.01123888, 0.01002908, 0.02339378,\n",
       "       0.01805058, 0.0243342 , 0.02924248, 0.05377164, 0.06240871,\n",
       "       0.46105613])"
      ]
     },
     "execution_count": 49,
     "metadata": {},
     "output_type": "execute_result"
    }
   ],
   "source": [
    "steadyStateEV_All"
   ]
  },
  {
   "cell_type": "code",
   "execution_count": 50,
   "metadata": {},
   "outputs": [
    {
     "data": {
      "text/plain": [
       "array([0.02173354, 0.03042291, 0.01400016, 0.05799461, 0.03872122,\n",
       "       0.0190587 , 0.02362528, 0.03792499, 0.00980819, 0.01711185,\n",
       "       0.01368416, 0.0178604 , 0.01115358, 0.01007378, 0.02231063,\n",
       "       0.01769755, 0.02283488, 0.02798248, 0.05328488, 0.05935868,\n",
       "       0.47335753])"
      ]
     },
     "execution_count": 50,
     "metadata": {},
     "output_type": "execute_result"
    }
   ],
   "source": [
    "steadyStateEV_NonCollapseUSSR"
   ]
  },
  {
   "cell_type": "code",
   "execution_count": 51,
   "metadata": {},
   "outputs": [
    {
     "data": {
      "text/plain": [
       "array([0.0190818 , 0.02769969, 0.01214363, 0.05293702, 0.03579976,\n",
       "       0.01693223, 0.01998407, 0.03336933, 0.00829067, 0.01522121,\n",
       "       0.01168535, 0.01615109, 0.00964165, 0.00898118, 0.02140697,\n",
       "       0.01619932, 0.02191786, 0.02672169, 0.05182684, 0.06112091,\n",
       "       0.51288774])"
      ]
     },
     "execution_count": 51,
     "metadata": {},
     "output_type": "execute_result"
    }
   ],
   "source": [
    "steadyStateEV_ArabSpring"
   ]
  },
  {
   "cell_type": "code",
   "execution_count": 40,
   "metadata": {},
   "outputs": [
    {
     "data": {
      "text/plain": [
       "12"
      ]
     },
     "execution_count": 40,
     "metadata": {},
     "output_type": "execute_result"
    }
   ],
   "source": [
    "len(arabSpringCountries)"
   ]
  },
  {
   "cell_type": "code",
   "execution_count": 59,
   "metadata": {},
   "outputs": [
    {
     "data": {
      "text/plain": [
       "<BarContainer object of 21 artists>"
      ]
     },
     "execution_count": 59,
     "metadata": {},
     "output_type": "execute_result"
    },
    {
     "data": {
      "image/png": "[encoded data removed]",
      "text/plain": [
       "<Figure size 432x288 with 1 Axes>"
      ]
     },
     "metadata": {
      "needs_background": "light"
     },
     "output_type": "display_data"
    }
   ],
   "source": [
    "plt.bar(x=np.arange(-10,11),height=steadyStateEV_NonCollapseUSSR-steadyStateEV_All)"
   ]
  },
  {
   "cell_type": "code",
   "execution_count": 60,
   "metadata": {},
   "outputs": [
    {
     "data": {
      "text/plain": [
       "<BarContainer object of 21 artists>"
      ]
     },
     "execution_count": 60,
     "metadata": {},
     "output_type": "execute_result"
    },
    {
     "data": {
      "image/png": "[encoded data removed]",
      "text/plain": [
       "<Figure size 432x288 with 1 Axes>"
      ]
     },
     "metadata": {
      "needs_background": "light"
     },
     "output_type": "display_data"
    }
   ],
   "source": [
    "plt.bar(x=np.arange(-10,11),height=steadyStateEV_ArabSpring-steadyStateEV_All)"
   ]
  },
  {
   "cell_type": "code",
   "execution_count": null,
   "metadata": {},
   "outputs": [],
   "source": []
  }
 ],
 "metadata": {
  "kernelspec": {
   "display_name": "Python 3.7.10",
   "language": "python",
   "name": "python3"
  },
  "language_info": {
   "codemirror_mode": {
    "name": "ipython",
    "version": 3
   },
   "file_extension": ".py",
   "mimetype": "text/x-python",
   "name": "python",
   "nbconvert_exporter": "python",
   "pygments_lexer": "ipython3",
   "version": "3.7.10"
  },
  "vscode": {
   "interpreter": {
    "hash": "b9d6308ef3307e06af9f349690fb1790f2039483d80b3b8c08b51be05382c29c"
   }
  }
 },
 "nbformat": 4,
 "nbformat_minor": 4
}
