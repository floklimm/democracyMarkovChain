{
 "cells": [
  {
   "cell_type": "code",
   "execution_count": 1,
   "metadata": {},
   "outputs": [],
   "source": [
    "import sys\n",
    "#sys.path.insert(1, r\"folder where you put files from zenodo\")\n",
    "\n",
    "# from bayes_multi_order_model_1 import BayesMultiOrderNetworkModel\n",
    "from bayes_multi_order_model_1 import opt_order_bayes_factors\n",
    "from bayes_multi_order_model_1 import ML_loglh_and_DoF_of_BMONs\n",
    "from bayes_multi_order_model_1 import AIC, BIC, p_value\n",
    "\n",
    "from paths import Paths\n",
    "from constraint import NetworkConstraint\n",
    "\n",
    "import numpy as np\n",
    "\n"
   ]
  },
  {
   "cell_type": "code",
   "execution_count": 2,
   "metadata": {
    "scrolled": true
   },
   "outputs": [
    {
     "name": "stdout",
     "output_type": "stream",
     "text": [
      "total number of paths: 31790\n",
      "length | total #,  # uniques | min #, max # |\n",
      "=============================================\n",
      "     8 | 7817.00,    6951.00 |  1.00, 75.00 |\n",
      "     9 | 5212.00,    4965.00 |  1.00, 32.00 |\n",
      "    10 | 4204.00,    4018.00 |  1.00, 20.00 |\n",
      "    11 | 2819.00,    2745.00 |  1.00, 18.00 |\n",
      "    12 | 2418.00,    2366.00 |  1.00, 11.00 |\n",
      "    13 | 1689.00,    1651.00 |  1.00,  9.00 |\n",
      "    14 | 1390.00,    1357.00 |  1.00,  7.00 |\n",
      "    15 |  951.00,     937.00 |  1.00,  9.00 |\n",
      "    16 |  890.00,     881.00 |  1.00,  4.00 |\n",
      "    17 |  676.00,     671.00 |  1.00,  2.00 |\n",
      "    18 |  598.00,     591.00 |  1.00,  4.00 |\n",
      "    19 |  433.00,     430.00 |  1.00,  4.00 |\n",
      "    20 |  375.00,     370.00 |  1.00,  3.00 |\n",
      "    21 |  288.00,     288.00 |  1.00,  1.00 |\n",
      "    22 |  260.00,     260.00 |  1.00,  1.00 |\n",
      "    23 |  187.00,     187.00 |  1.00,  1.00 |\n",
      "    24 |  166.00,     166.00 |  1.00,  1.00 |\n",
      "    25 |  146.00,     146.00 |  1.00,  1.00 |\n",
      "    26 |  130.00,     129.00 |  1.00,  2.00 |\n",
      "    27 |  110.00,     109.00 |  1.00,  2.00 |\n",
      "    28 |  108.00,     108.00 |  1.00,  1.00 |\n",
      "    29 |   67.00,      67.00 |  1.00,  1.00 |\n",
      "    30 |   68.00,      67.00 |  1.00,  2.00 |\n",
      "    31 |   64.00,      64.00 |  1.00,  1.00 |\n",
      "    32 |   71.00,      71.00 |  1.00,  1.00 |\n",
      "    33 |   39.00,      39.00 |  1.00,  1.00 |\n",
      "    34 |   47.00,      47.00 |  1.00,  1.00 |\n",
      "    35 |   35.00,      35.00 |  1.00,  1.00 |\n",
      "    36 |   44.00,      44.00 |  1.00,  1.00 |\n",
      "    37 |   34.00,      34.00 |  1.00,  1.00 |\n",
      "    38 |   31.00,      31.00 |  1.00,  1.00 |\n",
      "    39 |   32.00,      32.00 |  1.00,  1.00 |\n",
      "    40 |   19.00,      19.00 |  1.00,  1.00 |\n",
      "    41 |   20.00,      20.00 |  1.00,  1.00 |\n",
      "    42 |   21.00,      21.00 |  1.00,  1.00 |\n",
      "    43 |   18.00,      18.00 |  1.00,  1.00 |\n",
      "    44 |   22.00,      22.00 |  1.00,  1.00 |\n",
      "    45 |   16.00,      16.00 |  1.00,  1.00 |\n",
      "    46 |   26.00,      26.00 |  1.00,  1.00 |\n",
      "    47 |   15.00,      15.00 |  1.00,  1.00 |\n",
      "    48 |   20.00,      20.00 |  1.00,  1.00 |\n",
      "    49 |   15.00,      15.00 |  1.00,  1.00 |\n",
      "    50 |    6.00,       6.00 |  1.00,  1.00 |\n",
      "    51 |   11.00,      11.00 |  1.00,  1.00 |\n",
      "    52 |    8.00,       8.00 |  1.00,  1.00 |\n",
      "    53 |    8.00,       8.00 |  1.00,  1.00 |\n",
      "    54 |    6.00,       6.00 |  1.00,  1.00 |\n",
      "    55 |   10.00,      10.00 |  1.00,  1.00 |\n",
      "    56 |    3.00,       3.00 |  1.00,  1.00 |\n",
      "    57 |    8.00,       8.00 |  1.00,  1.00 |\n",
      "    58 |    8.00,       8.00 |  1.00,  1.00 |\n",
      "    59 |   10.00,      10.00 |  1.00,  1.00 |\n",
      "    60 |    9.00,       9.00 |  1.00,  1.00 |\n",
      "    61 |    2.00,       2.00 |  1.00,  1.00 |\n",
      "    62 |    6.00,       6.00 |  1.00,  1.00 |\n",
      "    63 |    2.00,       2.00 |  1.00,  1.00 |\n",
      "    64 |    8.00,       8.00 |  1.00,  1.00 |\n",
      "    65 |    8.00,       8.00 |  1.00,  1.00 |\n",
      "    66 |    7.00,       7.00 |  1.00,  1.00 |\n",
      "    67 |    3.00,       3.00 |  1.00,  1.00 |\n",
      "    68 |    1.00,       1.00 |  1.00,  1.00 |\n",
      "    69 |    4.00,       4.00 |  1.00,  1.00 |\n",
      "    70 |    1.00,       1.00 |  1.00,  1.00 |\n",
      "    71 |    5.00,       5.00 |  1.00,  1.00 |\n",
      "    72 |    1.00,       1.00 |  1.00,  1.00 |\n",
      "    73 |    2.00,       2.00 |  1.00,  1.00 |\n",
      "    74 |    3.00,       3.00 |  1.00,  1.00 |\n",
      "    75 |    6.00,       6.00 |  1.00,  1.00 |\n",
      "    76 |    3.00,       3.00 |  1.00,  1.00 |\n",
      "    77 |    1.00,       1.00 |  1.00,  1.00 |\n",
      "    78 |    3.00,       3.00 |  1.00,  1.00 |\n",
      "    79 |    4.00,       4.00 |  1.00,  1.00 |\n",
      "    80 |    3.00,       3.00 |  1.00,  1.00 |\n",
      "    81 |    2.00,       2.00 |  1.00,  1.00 |\n",
      "    82 |    3.00,       3.00 |  1.00,  1.00 |\n",
      "    83 |    3.00,       3.00 |  1.00,  1.00 |\n",
      "    84 |    1.00,       1.00 |  1.00,  1.00 |\n",
      "    85 |    1.00,       1.00 |  1.00,  1.00 |\n",
      "    87 |    1.00,       1.00 |  1.00,  1.00 |\n",
      "    88 |    5.00,       5.00 |  1.00,  1.00 |\n",
      "    89 |    4.00,       4.00 |  1.00,  1.00 |\n",
      "    90 |    2.00,       2.00 |  1.00,  1.00 |\n",
      "    91 |    3.00,       3.00 |  1.00,  1.00 |\n",
      "    92 |    4.00,       4.00 |  1.00,  1.00 |\n",
      "    93 |    2.00,       2.00 |  1.00,  1.00 |\n",
      "    95 |    1.00,       1.00 |  1.00,  1.00 |\n",
      "    96 |    2.00,       2.00 |  1.00,  1.00 |\n",
      "    97 |    1.00,       1.00 |  1.00,  1.00 |\n",
      "    99 |    4.00,       3.00 |  1.00,  2.00 |\n"
     ]
    }
   ],
   "source": [
    "paths = Paths()\n",
    "\n",
    "file1 = r\"MSNBC.ngram\"\n",
    "paths.update_from_ngram(file1, splitter = \",\", last_entry_frequency = False)\n",
    "paths.print_stats()"
   ]
  },
  {
   "cell_type": "markdown",
   "metadata": {},
   "source": [
    "# The graph constraint:\n",
    "We assume that all edges were traversed. The assumption is not good, but it is the best we can do with this data."
   ]
  },
  {
   "cell_type": "code",
   "execution_count": 3,
   "metadata": {},
   "outputs": [],
   "source": [
    "edges = set()\n",
    "nodes = set()\n",
    "for length in paths.lengths():\n",
    "    for path in paths.paths_of_length(length):\n",
    "        for en,node in enumerate(path[1:]):\n",
    "            edge = (path[en],node)\n",
    "            edges.add(edge)\n",
    "            # edges.add((edge[1], edge[0]))\n",
    "            nodes.update(set(edge))\n",
    "            "
   ]
  },
  {
   "cell_type": "code",
   "execution_count": 4,
   "metadata": {},
   "outputs": [
    {
     "data": {
      "text/plain": [
       "270"
      ]
     },
     "execution_count": 4,
     "metadata": {},
     "output_type": "execute_result"
    }
   ],
   "source": [
    "len(edges)"
   ]
  },
  {
   "cell_type": "code",
   "execution_count": 5,
   "metadata": {},
   "outputs": [
    {
     "data": {
      "text/plain": [
       "17"
      ]
     },
     "execution_count": 5,
     "metadata": {},
     "output_type": "execute_result"
    }
   ],
   "source": [
    "len(nodes)"
   ]
  },
  {
   "cell_type": "code",
   "execution_count": 6,
   "metadata": {},
   "outputs": [],
   "source": [
    "topo_const = NetworkConstraint(nodes,edges)"
   ]
  },
  {
   "cell_type": "markdown",
   "metadata": {},
   "source": [
    "# The Order detection\n",
    "## Optimal order using MLE methods"
   ]
  },
  {
   "cell_type": "code",
   "execution_count": 7,
   "metadata": {},
   "outputs": [],
   "source": [
    "max_order = 3"
   ]
  },
  {
   "cell_type": "code",
   "execution_count": 8,
   "metadata": {},
   "outputs": [],
   "source": [
    "ml_log_lh, dof, n_obs = ML_loglh_and_DoF_of_BMONs(\n",
    "    paths = paths,\n",
    "    max_order = max_order,\n",
    "    nodes = nodes,\n",
    "    constraint = topo_const\n",
    ")"
   ]
  },
  {
   "cell_type": "markdown",
   "metadata": {},
   "source": [
    "### AIC"
   ]
  },
  {
   "cell_type": "code",
   "execution_count": 9,
   "metadata": {},
   "outputs": [
    {
     "name": "stdout",
     "output_type": "stream",
     "text": [
      "0 2059889.8530055059\n",
      "1 1780381.034246967\n",
      "2 1513925.9939165465\n",
      "3 1548158.1365096106\n",
      "MIN: 2\n"
     ]
    }
   ],
   "source": [
    "for i in range(max_order+1):\n",
    "    print(i, AIC(ml_log_lh[i], dof[i]))\n",
    "print(\"MIN:\", min(range(max_order +1), key = lambda i: AIC(ml_log_lh[i], dof[i])))"
   ]
  },
  {
   "cell_type": "markdown",
   "metadata": {},
   "source": [
    "### BIC"
   ]
  },
  {
   "cell_type": "code",
   "execution_count": 10,
   "metadata": {},
   "outputs": [
    {
     "name": "stdout",
     "output_type": "stream",
     "text": [
      "0 2060065.1643701894\n",
      "1 1783328.4565657105\n",
      "2 1560920.3966120512\n",
      "3 2294973.593101569\n",
      "MIN: 2\n"
     ]
    }
   ],
   "source": [
    "for i in range(max_order+1):\n",
    "    print(i, BIC(ml_log_lh[i], dof[i], n_obs[i]))\n",
    "print(\"MIN:\", min(range(max_order + 1), key = lambda i: BIC(ml_log_lh[i], dof[i], n_obs[i])))"
   ]
  },
  {
   "cell_type": "markdown",
   "metadata": {},
   "source": [
    "### Likelihood ratio test"
   ]
  },
  {
   "cell_type": "code",
   "execution_count": 11,
   "metadata": {},
   "outputs": [
    {
     "name": "stdout",
     "output_type": "stream",
     "text": [
      "reject 0 for 1? p-value 0.0\n",
      "reject 1 for 2? p-value 0.0\n",
      "reject 2 for 3? p-value 0.0\n"
     ]
    }
   ],
   "source": [
    "for i in range(1, max_order+1):\n",
    "    print(f\"reject {i-1} for {i}? p-value\", p_value( ml_log_lh[i-1], ml_log_lh[i], dof[i-1], dof[i]))"
   ]
  },
  {
   "cell_type": "markdown",
   "metadata": {},
   "source": [
    "## Bayes factor method"
   ]
  },
  {
   "cell_type": "code",
   "execution_count": 12,
   "metadata": {},
   "outputs": [],
   "source": [
    "_, bayes_log_lh = opt_order_bayes_factors(\n",
    "    paths = paths, \n",
    "    max_order = max_order, \n",
    "    nodes = nodes,\n",
    "    constraint = topo_const\n",
    ")"
   ]
  },
  {
   "cell_type": "code",
   "execution_count": 13,
   "metadata": {},
   "outputs": [
    {
     "name": "stdout",
     "output_type": "stream",
     "text": [
      "\n",
      "Order 1 is better than all lower.\n",
      "\n",
      "Order 2 is better than all lower.\n",
      "\n",
      "Order 3 is NOT better than all lower.\n"
     ]
    }
   ],
   "source": [
    "for i in range(1, max_order+1):\n",
    "    print()\n",
    "    passed = True\n",
    "    for j in range(i):\n",
    "#         print(i, j)\n",
    "#         print(2*(bayes_log_lh[i] - bayes_log_lh[j]))\n",
    "        passed = passed and ((bayes_log_lh[i] - bayes_log_lh[j]) > np.log(150))\n",
    "#         print(2*(bayes_log_lh[i] - bayes_log_lh[j]) > 10)\n",
    "#         print()\n",
    "    if passed:\n",
    "        print(f\"Order {i} is better than all lower.\")\n",
    "    else:\n",
    "        print(f\"Order {i} is NOT better than all lower.\")\n",
    "        "
   ]
  },
  {
   "cell_type": "code",
   "execution_count": 14,
   "metadata": {},
   "outputs": [
    {
     "name": "stdout",
     "output_type": "stream",
     "text": [
      "defaultdict(<class 'int'>, {0: 423776, 1: 423776, 2: 423776, 3: 423776})\n"
     ]
    }
   ],
   "source": [
    "print(n_obs)"
   ]
  },
  {
   "cell_type": "code",
   "execution_count": null,
   "metadata": {},
   "outputs": [],
   "source": []
  }
 ],
 "metadata": {
  "kernelspec": {
   "display_name": "Python 3.9.10 ('graphonEnv')",
   "language": "python",
   "name": "python3"
  },
  "language_info": {
   "codemirror_mode": {
    "name": "ipython",
    "version": 3
   },
   "file_extension": ".py",
   "mimetype": "text/x-python",
   "name": "python",
   "nbconvert_exporter": "python",
   "pygments_lexer": "ipython3",
   "version": "3.9.10"
  },
  "toc": {
   "base_numbering": 1,
   "nav_menu": {},
   "number_sections": true,
   "sideBar": true,
   "skip_h1_title": false,
   "title_cell": "Table of Contents",
   "title_sidebar": "Contents",
   "toc_cell": false,
   "toc_position": {},
   "toc_section_display": true,
   "toc_window_display": false
  },
  "vscode": {
   "interpreter": {
    "hash": "964253b368be59c601e6af76ebf98915b38f7d5e6c7118ef2d3110712e0da853"
   }
  }
 },
 "nbformat": 4,
 "nbformat_minor": 2
}
