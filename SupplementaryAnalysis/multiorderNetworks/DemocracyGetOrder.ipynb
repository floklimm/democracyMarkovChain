{
 "cells": [
  {
   "cell_type": "code",
   "execution_count": 65,
   "metadata": {},
   "outputs": [],
   "source": [
    "import sys\n",
    "#sys.path.insert(1, r\"folder where you put files from zenodo\")\n",
    "\n",
    "# from bayes_multi_order_model_1 import BayesMultiOrderNetworkModel\n",
    "from bayes_multi_order_model_1 import opt_order_bayes_factors\n",
    "from bayes_multi_order_model_1 import ML_loglh_and_DoF_of_BMONs\n",
    "from bayes_multi_order_model_1 import AIC, BIC, p_value\n",
    "\n",
    "from paths import Paths\n",
    "from constraint import NetworkConstraint\n",
    "\n",
    "import numpy as np\n",
    "\n",
    "import pandas as pd\n",
    "\n",
    "import matplotlib.pyplot as plt\n",
    "import seaborn as sns\n",
    "sns.set_context(\"talk\", font_scale=1.4)\n",
    "\n",
    "\n",
    "# for using LaTeX fonts\n",
    "plt.rcParams.update({\n",
    "    \"text.usetex\": True,\n",
    "    \"font.family\": \"sans-serif\",\n",
    "    \"font.sans-serif\": [\"Helvetica\"]})\n",
    "# for Palatino and other serif fonts use:\n",
    "plt.rcParams.update({\n",
    "    \"text.usetex\": True,\n",
    "    \"font.family\": \"serif\",\n",
    "    \"font.serif\": [\"Palatino\"],\n",
    "})\n"
   ]
  },
  {
   "cell_type": "code",
   "execution_count": 6,
   "metadata": {
    "scrolled": true
   },
   "outputs": [],
   "source": [
    "# paths = Paths()\n",
    "\n",
    "# file1 = r\"MSNBC.ngram\"\n",
    "# paths.update_from_ngram(file1, splitter = \",\", last_entry_frequency = False)\n",
    "# paths.print_stats()"
   ]
  },
  {
   "cell_type": "code",
   "execution_count": 7,
   "metadata": {},
   "outputs": [],
   "source": [
    "import pathpy as pp\n"
   ]
  },
  {
   "cell_type": "code",
   "execution_count": 8,
   "metadata": {},
   "outputs": [],
   "source": [
    "# load the Polity5 data from the excel data frame\n",
    "timeSeries = pd.read_excel('./../../data/polity5/p5v2018.xls')\n",
    "# do some cleaning\n",
    "timeSeries = timeSeries.dropna(subset=['year', 'country', 'polity2'])\n",
    "\n",
    "timeSeries = timeSeries[timeSeries[\"polity2\"] != -66]\n",
    "timeSeries = timeSeries[timeSeries[\"polity2\"] != -88]"
   ]
  },
  {
   "cell_type": "code",
   "execution_count": 13,
   "metadata": {},
   "outputs": [],
   "source": [
    "def pathFromTimeSeries(timeSeriesIn):\n",
    "\n",
    "    #paths = pp.Paths()\n",
    "    paths = Paths()\n",
    "    \n",
    "\n",
    "     # split the timeseries into one for each country \n",
    "    uniqueCountries = timeSeriesIn['country'].unique()\n",
    "    countryTimeseries =[]\n",
    "\n",
    "\n",
    "    for country in uniqueCountries:\n",
    "        sortedPolity2Country = timeSeriesIn[timeSeriesIn['country'] == country].sort_values(by='year')[\"polity2\"].tolist()\n",
    "        \n",
    "        #print(tuple(sortedPolity2Country))\n",
    "\n",
    "        paths.add_path(tuple(sortedPolity2Country))\n",
    "        \n",
    "        #break\n",
    "        #T=len(sortedPolity2Country)# number of data points\n",
    "    \n",
    "    return(paths)"
   ]
  },
  {
   "cell_type": "code",
   "execution_count": 14,
   "metadata": {},
   "outputs": [],
   "source": [
    "paths = pathFromTimeSeries(timeSeries)"
   ]
  },
  {
   "cell_type": "markdown",
   "metadata": {},
   "source": [
    "# The graph constraint:\n",
    "We assume that all edges were traversed. The assumption is not good, but it is the best we can do with this data."
   ]
  },
  {
   "cell_type": "code",
   "execution_count": 15,
   "metadata": {},
   "outputs": [],
   "source": [
    "edges = set()\n",
    "nodes = set()\n",
    "for length in paths.lengths():\n",
    "    for path in paths.paths_of_length(length):\n",
    "        for en,node in enumerate(path[1:]):\n",
    "            edge = (path[en],node)\n",
    "            edges.add(edge)\n",
    "            # edges.add((edge[1], edge[0]))\n",
    "            nodes.update(set(edge))\n",
    "            "
   ]
  },
  {
   "cell_type": "code",
   "execution_count": 16,
   "metadata": {},
   "outputs": [
    {
     "data": {
      "text/plain": [
       "326"
      ]
     },
     "execution_count": 16,
     "metadata": {},
     "output_type": "execute_result"
    }
   ],
   "source": [
    "len(edges)"
   ]
  },
  {
   "cell_type": "code",
   "execution_count": 17,
   "metadata": {},
   "outputs": [
    {
     "data": {
      "text/plain": [
       "21"
      ]
     },
     "execution_count": 17,
     "metadata": {},
     "output_type": "execute_result"
    }
   ],
   "source": [
    "len(nodes)"
   ]
  },
  {
   "cell_type": "code",
   "execution_count": 18,
   "metadata": {},
   "outputs": [],
   "source": [
    "topo_const = NetworkConstraint(nodes,edges)"
   ]
  },
  {
   "cell_type": "markdown",
   "metadata": {},
   "source": [
    "# The Order detection\n",
    "## Optimal order using MLE methods"
   ]
  },
  {
   "cell_type": "code",
   "execution_count": 49,
   "metadata": {},
   "outputs": [],
   "source": [
    "max_order = 7"
   ]
  },
  {
   "cell_type": "code",
   "execution_count": 50,
   "metadata": {},
   "outputs": [],
   "source": [
    "ml_log_lh, dof, n_obs = ML_loglh_and_DoF_of_BMONs(\n",
    "    paths = paths,\n",
    "    max_order = max_order,\n",
    "    nodes = nodes,\n",
    "    constraint = topo_const\n",
    ")"
   ]
  },
  {
   "cell_type": "markdown",
   "metadata": {},
   "source": [
    "### AIC"
   ]
  },
  {
   "cell_type": "code",
   "execution_count": 51,
   "metadata": {},
   "outputs": [
    {
     "name": "stdout",
     "output_type": "stream",
     "text": [
      "0 99119.29050402016\n",
      "1 17571.019041917436\n",
      "2 25033.327321559384\n",
      "3 178096.90290512767\n",
      "4 2635243.3310316424\n",
      "5 41756432.69420672\n",
      "6 664360246.4035667\n",
      "7 10572693457.700304\n",
      "MIN: 1\n"
     ]
    }
   ],
   "source": [
    "for i in range(max_order+1):\n",
    "    print(i, AIC(ml_log_lh[i], dof[i]))\n",
    "print(\"MIN:\", min(range(max_order +1), key = lambda i: AIC(ml_log_lh[i], dof[i])))"
   ]
  },
  {
   "cell_type": "markdown",
   "metadata": {},
   "source": [
    "### BIC"
   ]
  },
  {
   "cell_type": "code",
   "execution_count": 52,
   "metadata": {},
   "outputs": [
    {
     "name": "stdout",
     "output_type": "stream",
     "text": [
      "0 99274.43660486733\n",
      "1 20092.1431806838\n",
      "2 65200.65283088935\n",
      "3 817376.4114458542\n",
      "4 12809391.060471635\n",
      "5 203672155.23381755\n",
      "6 3241143607.374814\n",
      "7 51580461980.437515\n",
      "MIN: 1\n"
     ]
    }
   ],
   "source": [
    "for i in range(max_order+1):\n",
    "    print(i, BIC(ml_log_lh[i], dof[i], n_obs[i]))\n",
    "print(\"MIN:\", min(range(max_order + 1), key = lambda i: BIC(ml_log_lh[i], dof[i], n_obs[i])))"
   ]
  },
  {
   "cell_type": "markdown",
   "metadata": {},
   "source": [
    "### Likelihood ratio test"
   ]
  },
  {
   "cell_type": "code",
   "execution_count": 53,
   "metadata": {},
   "outputs": [
    {
     "name": "stdout",
     "output_type": "stream",
     "text": [
      "reject 0 for 1? p-value 0.0\n",
      "reject 1 for 2? p-value 1.0\n",
      "reject 2 for 3? p-value 1.0\n",
      "reject 3 for 4? p-value 1.0\n",
      "reject 4 for 5? p-value 1.0\n",
      "reject 5 for 6? p-value 1.0\n",
      "reject 6 for 7? p-value 1.0\n"
     ]
    }
   ],
   "source": [
    "for i in range(1, max_order+1):\n",
    "    print(f\"reject {i-1} for {i}? p-value\", p_value( ml_log_lh[i-1], ml_log_lh[i], dof[i-1], dof[i]))"
   ]
  },
  {
   "cell_type": "markdown",
   "metadata": {},
   "source": [
    "## Bayes factor method"
   ]
  },
  {
   "cell_type": "code",
   "execution_count": 54,
   "metadata": {},
   "outputs": [],
   "source": [
    "_, bayes_log_lh = opt_order_bayes_factors(\n",
    "    paths = paths, \n",
    "    max_order = max_order, \n",
    "    nodes = nodes,\n",
    "    constraint = topo_const\n",
    ")"
   ]
  },
  {
   "cell_type": "code",
   "execution_count": 55,
   "metadata": {},
   "outputs": [
    {
     "name": "stdout",
     "output_type": "stream",
     "text": [
      "\n",
      "Order 1 is better than all lower.\n",
      "\n",
      "Order 2 is NOT better than all lower.\n",
      "\n",
      "Order 3 is NOT better than all lower.\n",
      "\n",
      "Order 4 is NOT better than all lower.\n",
      "\n",
      "Order 5 is NOT better than all lower.\n",
      "\n",
      "Order 6 is NOT better than all lower.\n",
      "\n",
      "Order 7 is NOT better than all lower.\n"
     ]
    }
   ],
   "source": [
    "for i in range(1, max_order+1):\n",
    "    print()\n",
    "    passed = True\n",
    "    for j in range(i):\n",
    "#         print(i, j)\n",
    "#         print(2*(bayes_log_lh[i] - bayes_log_lh[j]))\n",
    "        passed = passed and ((bayes_log_lh[i] - bayes_log_lh[j]) > np.log(150))\n",
    "#         print(2*(bayes_log_lh[i] - bayes_log_lh[j]) > 10)\n",
    "#         print()\n",
    "    if passed:\n",
    "        print(f\"Order {i} is better than all lower.\")\n",
    "    else:\n",
    "        print(f\"Order {i} is NOT better than all lower.\")\n",
    "        "
   ]
  },
  {
   "cell_type": "code",
   "execution_count": 44,
   "metadata": {},
   "outputs": [
    {
     "name": "stdout",
     "output_type": "stream",
     "text": [
      "defaultdict(<class 'int'>, {0: 17280, 1: 17280, 2: 17280, 3: 17280, 4: 17280, 5: 17280, 6: 17280})\n"
     ]
    }
   ],
   "source": [
    "print(n_obs)"
   ]
  },
  {
   "cell_type": "markdown",
   "metadata": {},
   "source": [
    "## Illustration"
   ]
  },
  {
   "cell_type": "code",
   "execution_count": 57,
   "metadata": {},
   "outputs": [],
   "source": [
    "bic=[]\n",
    "aic=[]\n",
    "order = range(max_order+1)\n",
    "\n",
    "for i in range(max_order+1):\n",
    "    #print(i, BIC(ml_log_lh[i], dof[i], n_obs[i]))\n",
    "    bic.append(BIC(ml_log_lh[i], dof[i], n_obs[i]))\n",
    "\n",
    "for i in range(max_order+1):\n",
    "    #print(i, AIC(ml_log_lh[i], dof[i]))\n",
    "    aic.append(AIC(ml_log_lh[i], dof[i]))"
   ]
  },
  {
   "cell_type": "code",
   "execution_count": 99,
   "metadata": {},
   "outputs": [
    {
     "data": {
      "image/png": "[encoded data removed]",
      "text/plain": [
       "<Figure size 792x792 with 1 Axes>"
      ]
     },
     "metadata": {
      "needs_background": "light"
     },
     "output_type": "display_data"
    }
   ],
   "source": [
    "from turtle import fillcolor\n",
    "\n",
    "\n",
    "fig = plt.figure(figsize=(11,11))\n",
    "ax = fig.add_subplot(1, 1, 1)\n",
    "\n",
    "plt.scatter(order,aic,edgecolor='#8B0000',color='none')\n",
    "plt.scatter(order,bic,color='#00008C',marker='x')\n",
    "plt.yscale('log')\n",
    "\n",
    "plt.xlabel(r'Markov chain order, $K$')\n",
    "plt.ylabel(r'Information Criteria, BIC and AIC ')\n",
    "\n",
    "#plt.title(r'Model selection for regime transitions')\n",
    "\n",
    "\n",
    "darkgray = 0.3*np.array([1,1,1])\n",
    "\n",
    "\n",
    "ax.annotate('a Markov-chain of order $K=1$\\n describes the data best', xy=(1, 10**4.5),ha='center',\n",
    "             xycoords='data',\n",
    "             xytext=(2, 10**8),\n",
    "             textcoords='data',\n",
    "             color=darkgray,\n",
    "             arrowprops=dict(arrowstyle= '-|>',\n",
    "                             color=darkgray,\n",
    "                             lw=3.5,\n",
    "                             ls='-')\n",
    "           )\n",
    "\n",
    "\n",
    "fig.tight_layout()  # otherwise the right y-label is slightly clipped\n",
    "\n",
    "plt.savefig('./../fig/markovChainOrder.pdf',bbox_inches='tight')\n"
   ]
  },
  {
   "cell_type": "code",
   "execution_count": null,
   "metadata": {},
   "outputs": [],
   "source": []
  }
 ],
 "metadata": {
  "kernelspec": {
   "display_name": "Python 3.7.10",
   "language": "python",
   "name": "python3"
  },
  "language_info": {
   "codemirror_mode": {
    "name": "ipython",
    "version": 3
   },
   "file_extension": ".py",
   "mimetype": "text/x-python",
   "name": "python",
   "nbconvert_exporter": "python",
   "pygments_lexer": "ipython3",
   "version": "3.7.10"
  },
  "toc": {
   "base_numbering": 1,
   "nav_menu": {},
   "number_sections": true,
   "sideBar": true,
   "skip_h1_title": false,
   "title_cell": "Table of Contents",
   "title_sidebar": "Contents",
   "toc_cell": false,
   "toc_position": {},
   "toc_section_display": true,
   "toc_window_display": false
  },
  "vscode": {
   "interpreter": {
    "hash": "b9d6308ef3307e06af9f349690fb1790f2039483d80b3b8c08b51be05382c29c"
   }
  }
 },
 "nbformat": 4,
 "nbformat_minor": 2
}
